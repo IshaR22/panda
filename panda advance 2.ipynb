{
 "cells": [
  {
   "cell_type": "code",
   "execution_count": 3,
   "id": "fa28d12c-f53d-4c6b-a908-2a4bdec89e48",
   "metadata": {},
   "outputs": [],
   "source": [
    "##Consider following code to answer further questions:\n",
    "import pandas as pd\n",
    "course_name = ['Data Science', 'Machine Learnin', 'Big Data', 'Data Engineer']\n",
    "duration = [2,3,6,4]\n",
    "df = pd.DataFrame(data = {'course_name' : course_name, 'duration' : duration})"
   ]
  },
  {
   "cell_type": "code",
   "execution_count": 4,
   "id": "76ca8f9d-5ff7-45a7-bf47-775af6171478",
   "metadata": {},
   "outputs": [
    {
     "data": {
      "text/html": [
       "<div>\n",
       "<style scoped>\n",
       "    .dataframe tbody tr th:only-of-type {\n",
       "        vertical-align: middle;\n",
       "    }\n",
       "\n",
       "    .dataframe tbody tr th {\n",
       "        vertical-align: top;\n",
       "    }\n",
       "\n",
       "    .dataframe thead th {\n",
       "        text-align: right;\n",
       "    }\n",
       "</style>\n",
       "<table border=\"1\" class=\"dataframe\">\n",
       "  <thead>\n",
       "    <tr style=\"text-align: right;\">\n",
       "      <th></th>\n",
       "      <th>course_name</th>\n",
       "      <th>duration</th>\n",
       "    </tr>\n",
       "  </thead>\n",
       "  <tbody>\n",
       "    <tr>\n",
       "      <th>0</th>\n",
       "      <td>Data Science</td>\n",
       "      <td>2</td>\n",
       "    </tr>\n",
       "    <tr>\n",
       "      <th>1</th>\n",
       "      <td>Machine Learnin</td>\n",
       "      <td>3</td>\n",
       "    </tr>\n",
       "    <tr>\n",
       "      <th>2</th>\n",
       "      <td>Big Data</td>\n",
       "      <td>6</td>\n",
       "    </tr>\n",
       "    <tr>\n",
       "      <th>3</th>\n",
       "      <td>Data Engineer</td>\n",
       "      <td>4</td>\n",
       "    </tr>\n",
       "  </tbody>\n",
       "</table>\n",
       "</div>"
      ],
      "text/plain": [
       "       course_name  duration\n",
       "0     Data Science         2\n",
       "1  Machine Learnin         3\n",
       "2         Big Data         6\n",
       "3    Data Engineer         4"
      ]
     },
     "execution_count": 4,
     "metadata": {},
     "output_type": "execute_result"
    }
   ],
   "source": [
    "df"
   ]
  },
  {
   "cell_type": "code",
   "execution_count": null,
   "id": "0a060610-8f47-42f6-bedd-ba3f8f41ca3d",
   "metadata": {},
   "outputs": [],
   "source": [
    "Q1. Write a code to print the data present in the second row of the dataframe, df."
   ]
  },
  {
   "cell_type": "code",
   "execution_count": 9,
   "id": "ef5ddd98-9b19-42ee-9365-8584bc82dddf",
   "metadata": {},
   "outputs": [
    {
     "data": {
      "text/plain": [
       "course_name    Machine Learnin\n",
       "duration                     3\n",
       "Name: 1, dtype: object"
      ]
     },
     "execution_count": 9,
     "metadata": {},
     "output_type": "execute_result"
    }
   ],
   "source": [
    "df.iloc[1]"
   ]
  },
  {
   "cell_type": "code",
   "execution_count": null,
   "id": "66601615-8530-4b84-92ec-ad125e28d124",
   "metadata": {},
   "outputs": [],
   "source": [
    "Q2. What is the difference between the functions loc and iloc in pandas.DataFrame?"
   ]
  },
  {
   "cell_type": "code",
   "execution_count": null,
   "id": "09cfd44e-5d67-4f3e-9ffb-3e489adcd1fb",
   "metadata": {},
   "outputs": [],
   "source": [
    "loc (Label-based Indexing)\n",
    "Purpose: Used for label-based indexing.\n",
    "Usage: Access rows and columns using labels (i.e., the names of the indices and columns).\n",
    "Syntax: df.loc[row_label, column_label]\n",
    "\n",
    "Purpose: Used for integer-based (positional) indexing.\n",
    "Usage: Access rows and columns using their integer positions.\n",
    "Syntax: df.iloc[row_index, column_index]"
   ]
  },
  {
   "cell_type": "code",
   "execution_count": 10,
   "id": "2d6c8995-8e84-4fcc-893b-9980933cea24",
   "metadata": {},
   "outputs": [
    {
     "data": {
      "text/plain": [
       "3"
      ]
     },
     "execution_count": 10,
     "metadata": {},
     "output_type": "execute_result"
    }
   ],
   "source": [
    "df.loc[1, 'duration']\n"
   ]
  },
  {
   "cell_type": "code",
   "execution_count": 11,
   "id": "7b9628cd-1459-4229-b750-aeed09d50aa1",
   "metadata": {},
   "outputs": [
    {
     "data": {
      "text/plain": [
       "course_name    Big Data\n",
       "duration              6\n",
       "Name: 2, dtype: object"
      ]
     },
     "execution_count": 11,
     "metadata": {},
     "output_type": "execute_result"
    }
   ],
   "source": [
    "df.iloc[2]"
   ]
  },
  {
   "cell_type": "code",
   "execution_count": null,
   "id": "5e2d2b39-8a52-4030-b304-8cde9d5847d2",
   "metadata": {},
   "outputs": [],
   "source": [
    "Q3. Reindex the given dataframe using a variable, reindex = [3,0,1,2] and store it in the variable, new_df\n",
    "then find the output for both new_df.loc[2] and new_df.iloc[2]."
   ]
  },
  {
   "cell_type": "code",
   "execution_count": 17,
   "id": "594ccf61-b8f5-4712-a1a1-c997735a0ddf",
   "metadata": {},
   "outputs": [],
   "source": [
    "reindex = [3, 0, 1, 2]\n",
    "new_df = df.reindex(reindex)"
   ]
  },
  {
   "cell_type": "code",
   "execution_count": 18,
   "id": "07f70b6f-4de0-475b-bff0-eb350894abec",
   "metadata": {},
   "outputs": [
    {
     "data": {
      "text/html": [
       "<div>\n",
       "<style scoped>\n",
       "    .dataframe tbody tr th:only-of-type {\n",
       "        vertical-align: middle;\n",
       "    }\n",
       "\n",
       "    .dataframe tbody tr th {\n",
       "        vertical-align: top;\n",
       "    }\n",
       "\n",
       "    .dataframe thead th {\n",
       "        text-align: right;\n",
       "    }\n",
       "</style>\n",
       "<table border=\"1\" class=\"dataframe\">\n",
       "  <thead>\n",
       "    <tr style=\"text-align: right;\">\n",
       "      <th></th>\n",
       "      <th>course_name</th>\n",
       "      <th>duration</th>\n",
       "    </tr>\n",
       "  </thead>\n",
       "  <tbody>\n",
       "    <tr>\n",
       "      <th>3</th>\n",
       "      <td>Data Engineer</td>\n",
       "      <td>4</td>\n",
       "    </tr>\n",
       "    <tr>\n",
       "      <th>0</th>\n",
       "      <td>Data Science</td>\n",
       "      <td>2</td>\n",
       "    </tr>\n",
       "    <tr>\n",
       "      <th>1</th>\n",
       "      <td>Machine Learnin</td>\n",
       "      <td>3</td>\n",
       "    </tr>\n",
       "    <tr>\n",
       "      <th>2</th>\n",
       "      <td>Big Data</td>\n",
       "      <td>6</td>\n",
       "    </tr>\n",
       "  </tbody>\n",
       "</table>\n",
       "</div>"
      ],
      "text/plain": [
       "       course_name  duration\n",
       "3    Data Engineer         4\n",
       "0     Data Science         2\n",
       "1  Machine Learnin         3\n",
       "2         Big Data         6"
      ]
     },
     "execution_count": 18,
     "metadata": {},
     "output_type": "execute_result"
    }
   ],
   "source": [
    "new_df"
   ]
  },
  {
   "cell_type": "code",
   "execution_count": 20,
   "id": "f35287aa-d850-4e6b-8adf-77f98281c3f2",
   "metadata": {},
   "outputs": [
    {
     "data": {
      "text/plain": [
       "course_name    Big Data\n",
       "duration              6\n",
       "Name: 2, dtype: object"
      ]
     },
     "execution_count": 20,
     "metadata": {},
     "output_type": "execute_result"
    }
   ],
   "source": [
    "new_df.loc[2]"
   ]
  },
  {
   "cell_type": "code",
   "execution_count": 21,
   "id": "ecf7eb63-57df-46e2-9181-bb76472fa25e",
   "metadata": {},
   "outputs": [
    {
     "data": {
      "text/plain": [
       "course_name    Machine Learnin\n",
       "duration                     3\n",
       "Name: 1, dtype: object"
      ]
     },
     "execution_count": 21,
     "metadata": {},
     "output_type": "execute_result"
    }
   ],
   "source": [
    "new_df.iloc[2]"
   ]
  },
  {
   "cell_type": "code",
   "execution_count": null,
   "id": "795d5eff-3f32-470d-8dff-4d5ebbb1fbfc",
   "metadata": {},
   "outputs": [],
   "source": [
    ".loc uses the label-based indexing (loc), so it will return the row with the original index label 2\n",
    ".iloc uses the integer-based indexing (iloc), so it will return the third row by position \n",
    "(index 2 in the reindexed DataFrame)"
   ]
  },
  {
   "cell_type": "code",
   "execution_count": 22,
   "id": "33f3ca82-96c7-4a11-9d4b-b69896120b5a",
   "metadata": {},
   "outputs": [],
   "source": [
    "#Consider the below code to answer further questions:\n",
    "import pandas as pd\n",
    "import numpy as np\n",
    "columns = ['column_1', 'column_2', 'column_3', 'column_4', 'column_5', 'column_6']\n",
    "indices = [1,2,3,4,5,6]\n",
    "#Creating a dataframe:\n",
    "df1 = pd.DataFrame(np.random.rand(6,6), columns = columns, index = indices)"
   ]
  },
  {
   "cell_type": "code",
   "execution_count": null,
   "id": "8abb7ed1-3352-4c17-b3b2-d8e131ae8a76",
   "metadata": {},
   "outputs": [],
   "source": [
    "Q4. Write a code to find the following statistical measurements for the above dataframe df1:\n",
    "(i) mean of each and every column present in the dataframe.\n",
    "(ii) standard deviation of column, ‘column_2’"
   ]
  },
  {
   "cell_type": "code",
   "execution_count": 23,
   "id": "12b1d650-6c21-4ed0-90e3-db8c138cb8b7",
   "metadata": {},
   "outputs": [
    {
     "data": {
      "text/html": [
       "<div>\n",
       "<style scoped>\n",
       "    .dataframe tbody tr th:only-of-type {\n",
       "        vertical-align: middle;\n",
       "    }\n",
       "\n",
       "    .dataframe tbody tr th {\n",
       "        vertical-align: top;\n",
       "    }\n",
       "\n",
       "    .dataframe thead th {\n",
       "        text-align: right;\n",
       "    }\n",
       "</style>\n",
       "<table border=\"1\" class=\"dataframe\">\n",
       "  <thead>\n",
       "    <tr style=\"text-align: right;\">\n",
       "      <th></th>\n",
       "      <th>column_1</th>\n",
       "      <th>column_2</th>\n",
       "      <th>column_3</th>\n",
       "      <th>column_4</th>\n",
       "      <th>column_5</th>\n",
       "      <th>column_6</th>\n",
       "    </tr>\n",
       "  </thead>\n",
       "  <tbody>\n",
       "    <tr>\n",
       "      <th>1</th>\n",
       "      <td>0.585698</td>\n",
       "      <td>0.743691</td>\n",
       "      <td>0.726807</td>\n",
       "      <td>0.348198</td>\n",
       "      <td>0.785714</td>\n",
       "      <td>0.135998</td>\n",
       "    </tr>\n",
       "    <tr>\n",
       "      <th>2</th>\n",
       "      <td>0.400791</td>\n",
       "      <td>0.567196</td>\n",
       "      <td>0.737053</td>\n",
       "      <td>0.649748</td>\n",
       "      <td>0.442106</td>\n",
       "      <td>0.450046</td>\n",
       "    </tr>\n",
       "    <tr>\n",
       "      <th>3</th>\n",
       "      <td>0.664275</td>\n",
       "      <td>0.040075</td>\n",
       "      <td>0.168441</td>\n",
       "      <td>0.074671</td>\n",
       "      <td>0.550154</td>\n",
       "      <td>0.164731</td>\n",
       "    </tr>\n",
       "    <tr>\n",
       "      <th>4</th>\n",
       "      <td>0.656378</td>\n",
       "      <td>0.925680</td>\n",
       "      <td>0.536862</td>\n",
       "      <td>0.602540</td>\n",
       "      <td>0.240437</td>\n",
       "      <td>0.784876</td>\n",
       "    </tr>\n",
       "    <tr>\n",
       "      <th>5</th>\n",
       "      <td>0.986933</td>\n",
       "      <td>0.569733</td>\n",
       "      <td>0.242623</td>\n",
       "      <td>0.260550</td>\n",
       "      <td>0.983569</td>\n",
       "      <td>0.869070</td>\n",
       "    </tr>\n",
       "    <tr>\n",
       "      <th>6</th>\n",
       "      <td>0.867289</td>\n",
       "      <td>0.820319</td>\n",
       "      <td>0.052486</td>\n",
       "      <td>0.035739</td>\n",
       "      <td>0.455462</td>\n",
       "      <td>0.861654</td>\n",
       "    </tr>\n",
       "  </tbody>\n",
       "</table>\n",
       "</div>"
      ],
      "text/plain": [
       "   column_1  column_2  column_3  column_4  column_5  column_6\n",
       "1  0.585698  0.743691  0.726807  0.348198  0.785714  0.135998\n",
       "2  0.400791  0.567196  0.737053  0.649748  0.442106  0.450046\n",
       "3  0.664275  0.040075  0.168441  0.074671  0.550154  0.164731\n",
       "4  0.656378  0.925680  0.536862  0.602540  0.240437  0.784876\n",
       "5  0.986933  0.569733  0.242623  0.260550  0.983569  0.869070\n",
       "6  0.867289  0.820319  0.052486  0.035739  0.455462  0.861654"
      ]
     },
     "execution_count": 23,
     "metadata": {},
     "output_type": "execute_result"
    }
   ],
   "source": [
    "df1"
   ]
  },
  {
   "cell_type": "code",
   "execution_count": 26,
   "id": "6f0aa4dd-d651-48ad-8c4f-49517dd1b27d",
   "metadata": {},
   "outputs": [
    {
     "data": {
      "text/plain": [
       "0.6935604884614907"
      ]
     },
     "execution_count": 26,
     "metadata": {},
     "output_type": "execute_result"
    }
   ],
   "source": [
    "df1['column_1'].mean()"
   ]
  },
  {
   "cell_type": "code",
   "execution_count": 28,
   "id": "5fdfd176-a07d-4dd3-a55e-80f05b93a39a",
   "metadata": {},
   "outputs": [
    {
     "data": {
      "text/plain": [
       "0.6111156927768925"
      ]
     },
     "execution_count": 28,
     "metadata": {},
     "output_type": "execute_result"
    }
   ],
   "source": [
    "df1['column_2'].mean()"
   ]
  },
  {
   "cell_type": "code",
   "execution_count": 29,
   "id": "d03c8ac7-c08b-4480-9b73-67489dc1a0d1",
   "metadata": {},
   "outputs": [
    {
     "data": {
      "text/plain": [
       "0.4107122042221731"
      ]
     },
     "execution_count": 29,
     "metadata": {},
     "output_type": "execute_result"
    }
   ],
   "source": [
    "df1['column_3'].mean()"
   ]
  },
  {
   "cell_type": "code",
   "execution_count": 30,
   "id": "6b37fd69-5761-47f6-ba65-ecd90d7d55e8",
   "metadata": {},
   "outputs": [
    {
     "data": {
      "text/plain": [
       "0.32857436103477866"
      ]
     },
     "execution_count": 30,
     "metadata": {},
     "output_type": "execute_result"
    }
   ],
   "source": [
    "df1['column_4'].mean()"
   ]
  },
  {
   "cell_type": "code",
   "execution_count": 31,
   "id": "ba2ad5ff-246d-418d-90c9-d71bd83f737a",
   "metadata": {},
   "outputs": [
    {
     "data": {
      "text/plain": [
       "0.5762403545293796"
      ]
     },
     "execution_count": 31,
     "metadata": {},
     "output_type": "execute_result"
    }
   ],
   "source": [
    "df1['column_5'].mean()"
   ]
  },
  {
   "cell_type": "code",
   "execution_count": 32,
   "id": "3dae5159-8d31-47ba-904b-462b6d70424e",
   "metadata": {},
   "outputs": [
    {
     "data": {
      "text/plain": [
       "0.5443956435421747"
      ]
     },
     "execution_count": 32,
     "metadata": {},
     "output_type": "execute_result"
    }
   ],
   "source": [
    "df1['column_6'].mean()"
   ]
  },
  {
   "cell_type": "code",
   "execution_count": 33,
   "id": "9e24e07e-5ab3-4217-a382-475436fc76fc",
   "metadata": {},
   "outputs": [
    {
     "data": {
      "text/plain": [
       "0.3130565419561673"
      ]
     },
     "execution_count": 33,
     "metadata": {},
     "output_type": "execute_result"
    }
   ],
   "source": [
    "df1['column_2'].std()"
   ]
  },
  {
   "cell_type": "code",
   "execution_count": null,
   "id": "95d00b00-f26e-497b-a770-9dcf18cd595f",
   "metadata": {},
   "outputs": [],
   "source": [
    "Q5. Replace the data present in the second row of column, ‘column_2’ by a string variable then find the\n",
    "mean of column, column_2.\n",
    "If you are getting errors in executing it then explain why.\n",
    "[Hint: To replace the data use df1.loc[] and equate this to string data of your choice.]"
   ]
  },
  {
   "cell_type": "code",
   "execution_count": 35,
   "id": "2550cbc2-be31-4726-852f-ae09a9f33143",
   "metadata": {},
   "outputs": [],
   "source": [
    "df1.loc[2,'column_2']='string variable'"
   ]
  },
  {
   "cell_type": "code",
   "execution_count": 36,
   "id": "edd82b3f-231b-41db-8601-335759b68a4e",
   "metadata": {},
   "outputs": [
    {
     "data": {
      "text/html": [
       "<div>\n",
       "<style scoped>\n",
       "    .dataframe tbody tr th:only-of-type {\n",
       "        vertical-align: middle;\n",
       "    }\n",
       "\n",
       "    .dataframe tbody tr th {\n",
       "        vertical-align: top;\n",
       "    }\n",
       "\n",
       "    .dataframe thead th {\n",
       "        text-align: right;\n",
       "    }\n",
       "</style>\n",
       "<table border=\"1\" class=\"dataframe\">\n",
       "  <thead>\n",
       "    <tr style=\"text-align: right;\">\n",
       "      <th></th>\n",
       "      <th>column_1</th>\n",
       "      <th>column_2</th>\n",
       "      <th>column_3</th>\n",
       "      <th>column_4</th>\n",
       "      <th>column_5</th>\n",
       "      <th>column_6</th>\n",
       "    </tr>\n",
       "  </thead>\n",
       "  <tbody>\n",
       "    <tr>\n",
       "      <th>1</th>\n",
       "      <td>0.585698</td>\n",
       "      <td>0.743691</td>\n",
       "      <td>0.726807</td>\n",
       "      <td>0.348198</td>\n",
       "      <td>0.785714</td>\n",
       "      <td>0.135998</td>\n",
       "    </tr>\n",
       "    <tr>\n",
       "      <th>2</th>\n",
       "      <td>0.400791</td>\n",
       "      <td>string variable</td>\n",
       "      <td>0.737053</td>\n",
       "      <td>0.649748</td>\n",
       "      <td>0.442106</td>\n",
       "      <td>0.450046</td>\n",
       "    </tr>\n",
       "    <tr>\n",
       "      <th>3</th>\n",
       "      <td>0.664275</td>\n",
       "      <td>0.040075</td>\n",
       "      <td>0.168441</td>\n",
       "      <td>0.074671</td>\n",
       "      <td>0.550154</td>\n",
       "      <td>0.164731</td>\n",
       "    </tr>\n",
       "    <tr>\n",
       "      <th>4</th>\n",
       "      <td>0.656378</td>\n",
       "      <td>0.92568</td>\n",
       "      <td>0.536862</td>\n",
       "      <td>0.602540</td>\n",
       "      <td>0.240437</td>\n",
       "      <td>0.784876</td>\n",
       "    </tr>\n",
       "    <tr>\n",
       "      <th>5</th>\n",
       "      <td>0.986933</td>\n",
       "      <td>0.569733</td>\n",
       "      <td>0.242623</td>\n",
       "      <td>0.260550</td>\n",
       "      <td>0.983569</td>\n",
       "      <td>0.869070</td>\n",
       "    </tr>\n",
       "    <tr>\n",
       "      <th>6</th>\n",
       "      <td>0.867289</td>\n",
       "      <td>0.820319</td>\n",
       "      <td>0.052486</td>\n",
       "      <td>0.035739</td>\n",
       "      <td>0.455462</td>\n",
       "      <td>0.861654</td>\n",
       "    </tr>\n",
       "  </tbody>\n",
       "</table>\n",
       "</div>"
      ],
      "text/plain": [
       "   column_1         column_2  column_3  column_4  column_5  column_6\n",
       "1  0.585698         0.743691  0.726807  0.348198  0.785714  0.135998\n",
       "2  0.400791  string variable  0.737053  0.649748  0.442106  0.450046\n",
       "3  0.664275         0.040075  0.168441  0.074671  0.550154  0.164731\n",
       "4  0.656378          0.92568  0.536862  0.602540  0.240437  0.784876\n",
       "5  0.986933         0.569733  0.242623  0.260550  0.983569  0.869070\n",
       "6  0.867289         0.820319  0.052486  0.035739  0.455462  0.861654"
      ]
     },
     "execution_count": 36,
     "metadata": {},
     "output_type": "execute_result"
    }
   ],
   "source": [
    "df1"
   ]
  },
  {
   "cell_type": "code",
   "execution_count": 46,
   "id": "63c51422-7de5-45bd-8bc5-c90e1dee22c8",
   "metadata": {},
   "outputs": [],
   "source": [
    "mean_2 = pd.to_numeric(df1['column_2'], errors='coerce').mean()"
   ]
  },
  {
   "cell_type": "code",
   "execution_count": 42,
   "id": "4d383313-35f1-4fb0-ba8f-11b055dc204a",
   "metadata": {},
   "outputs": [
    {
     "data": {
      "text/plain": [
       "0.33336184589871454"
      ]
     },
     "execution_count": 42,
     "metadata": {},
     "output_type": "execute_result"
    }
   ],
   "source": [
    "mean_2"
   ]
  },
  {
   "cell_type": "code",
   "execution_count": null,
   "id": "a5050b9c-e7a2-4fa0-a740-f0b6b3c528a3",
   "metadata": {},
   "outputs": [],
   "source": [
    "Q6. What do you understand about the windows function in pandas and list the types of windows\n",
    "functions?"
   ]
  },
  {
   "cell_type": "code",
   "execution_count": null,
   "id": "388c6f4f-a1a6-46a2-ba67-cf21e228e96e",
   "metadata": {},
   "outputs": [],
   "source": [
    "window functions are used to perform operations over a sliding window of data,use to calculate rolling \n",
    "statistics and applying functions to subsets of data within a DataFrame or Series.\n",
    "These functions help in performing operations like rolling mean, rolling sum, rolling standard deviation,\n",
    "and more, by applying them to a specific window of observations.\n",
    "\n",
    "Types of Window Functions \n",
    "\n",
    "rolling(window): Creates a rolling window object.\n",
    "rolling().mean(): Calculates the rolling mean.\n",
    "rolling().sum(): Calculates the rolling sum.\n",
    "rolling().std(): Calculates the rolling standard deviation.\n",
    "rolling().min(), rolling().max(), etc"
   ]
  },
  {
   "cell_type": "code",
   "execution_count": 49,
   "id": "804e338f-b8f2-4091-b84f-2d06dbe9bf94",
   "metadata": {},
   "outputs": [
    {
     "data": {
      "text/html": [
       "<div>\n",
       "<style scoped>\n",
       "    .dataframe tbody tr th:only-of-type {\n",
       "        vertical-align: middle;\n",
       "    }\n",
       "\n",
       "    .dataframe tbody tr th {\n",
       "        vertical-align: top;\n",
       "    }\n",
       "\n",
       "    .dataframe thead th {\n",
       "        text-align: right;\n",
       "    }\n",
       "</style>\n",
       "<table border=\"1\" class=\"dataframe\">\n",
       "  <thead>\n",
       "    <tr style=\"text-align: right;\">\n",
       "      <th></th>\n",
       "      <th>course_name</th>\n",
       "      <th>duration</th>\n",
       "      <th>rolling_mean</th>\n",
       "    </tr>\n",
       "  </thead>\n",
       "  <tbody>\n",
       "    <tr>\n",
       "      <th>0</th>\n",
       "      <td>Data Science</td>\n",
       "      <td>2</td>\n",
       "      <td>NaN</td>\n",
       "    </tr>\n",
       "    <tr>\n",
       "      <th>1</th>\n",
       "      <td>Machine Learnin</td>\n",
       "      <td>3</td>\n",
       "      <td>NaN</td>\n",
       "    </tr>\n",
       "    <tr>\n",
       "      <th>2</th>\n",
       "      <td>Big Data</td>\n",
       "      <td>6</td>\n",
       "      <td>3.666667</td>\n",
       "    </tr>\n",
       "    <tr>\n",
       "      <th>3</th>\n",
       "      <td>Data Engineer</td>\n",
       "      <td>4</td>\n",
       "      <td>4.333333</td>\n",
       "    </tr>\n",
       "  </tbody>\n",
       "</table>\n",
       "</div>"
      ],
      "text/plain": [
       "       course_name  duration  rolling_mean\n",
       "0     Data Science         2           NaN\n",
       "1  Machine Learnin         3           NaN\n",
       "2         Big Data         6      3.666667\n",
       "3    Data Engineer         4      4.333333"
      ]
     },
     "execution_count": 49,
     "metadata": {},
     "output_type": "execute_result"
    }
   ],
   "source": [
    "df['rolling_mean'] = df['duration'].rolling(window=3).mean()\n",
    "df"
   ]
  },
  {
   "cell_type": "code",
   "execution_count": null,
   "id": "a3aea012-d2c0-4e89-abe3-c6841360619c",
   "metadata": {},
   "outputs": [],
   "source": [
    "Q7. Write a code to print only the current month and year at the time of answering this question.\n",
    "[Hint: Use pandas.datetime function]"
   ]
  },
  {
   "cell_type": "code",
   "execution_count": 51,
   "id": "4ee7dbb5-a2fd-434d-9129-8dc50e45297d",
   "metadata": {},
   "outputs": [
    {
     "data": {
      "text/plain": [
       "2024"
      ]
     },
     "execution_count": 51,
     "metadata": {},
     "output_type": "execute_result"
    }
   ],
   "source": [
    "current_date = pd.Timestamp.now()\n",
    "current_month = current_date.month\n",
    "current_year = current_date.year\n",
    "current_year"
   ]
  },
  {
   "cell_type": "code",
   "execution_count": 52,
   "id": "66a23842-19b6-4145-bf8c-1a616ac726a0",
   "metadata": {},
   "outputs": [
    {
     "data": {
      "text/plain": [
       "7"
      ]
     },
     "execution_count": 52,
     "metadata": {},
     "output_type": "execute_result"
    }
   ],
   "source": [
    "current_month"
   ]
  },
  {
   "cell_type": "code",
   "execution_count": null,
   "id": "3d9d9ce3-1645-4f82-a290-7833f691da79",
   "metadata": {},
   "outputs": [],
   "source": [
    "Q8. Write a Python program that takes in two dates as input (in the format YYYY-MM-DD) and\n",
    "calculates the difference between them in days, hours, and minutes using Pandas time delta. The\n",
    "program should prompt the user to enter the dates and display the result."
   ]
  },
  {
   "cell_type": "code",
   "execution_count": null,
   "id": "3b225b35-3d36-4e7b-904f-9196ea3499c8",
   "metadata": {},
   "outputs": [],
   "source": [
    "from datetime import datetime, timedelta\n",
    "def calculate_time_difference(date1, date2):\n",
    "    date_format = '%Y-%m-%d'\n",
    "    date1 = datetime.strptime(date1, date_format)\n",
    "    date2 = datetime.strptime(date2, date_format)\n",
    "    \n",
    "    time_diff = date2 - date1\n",
    "    \n",
    "    days_diff = time_diff.days\n",
    "    hours_diff = time_diff.seconds // 3600\n",
    "    minutes_diff = (time_diff.seconds % 3600) // 60\n",
    "    \n",
    "    return days_diff, hours_diff, minutes_diff\n",
    "\n",
    "date1 = input(\"Enter the first date (YYYY-MM-DD): \")\n",
    "date2 = input(\"Enter the second date (YYYY-MM-DD): \")\n",
    "\n",
    "days, hours, minutes = calculate_time_difference(date1, date2)\n",
    "\n",
    "print(f\"\\nDifference between {date1} and {date2}:\")\n",
    "print(f\"Days: {days}\")\n",
    "print(f\"Hours: {hours}\")\n",
    "print(f\"Minutes: {minutes}\")\n"
   ]
  },
  {
   "cell_type": "code",
   "execution_count": null,
   "id": "4fd27359-77b8-40e7-8394-b41eafacc1e9",
   "metadata": {},
   "outputs": [],
   "source": [
    "Q9. Write a Python program that reads a CSV file containing categorical data and converts a specified\n",
    "column to a categorical data type. The program should prompt the user to enter the file path, column\n",
    "name, and category order, and then display the sorted data."
   ]
  },
  {
   "cell_type": "code",
   "execution_count": null,
   "id": "b01a8a12-9b0a-44c6-ae88-99f938ef1b50",
   "metadata": {},
   "outputs": [],
   "source": [
    "import pandas as pd\n",
    "\n",
    "def read_csv(file_path):\n",
    "    return pd.read_csv(file_path)\n",
    "\n",
    "def convert_to_categorical(data, column_name, category_order):\n",
    "    \n",
    "    data[column_name] = pd.Categorical(data[column_name], categories=category_order, ordered=True)\n",
    "    return data.sort_values(by=column_name)\n",
    "\n",
    "def main():\n",
    "    file_path = input(\"Enter the file path: \")\n",
    "    column_name = input(\"Enter the column name: \")\n",
    "    category_order = input(\"Enter the category order (comma separated): \").split(',')\n",
    "\n",
    "    data = read_csv(file_path)\n",
    "    sorted_data = convert_to_categorical(data, column_name, category_order)\n",
    "\n",
    "    print(\"\\nSorted Data:\")\n",
    "    print(sorted_data)"
   ]
  },
  {
   "cell_type": "code",
   "execution_count": null,
   "id": "b5fa9fa0-8ae6-4607-8c44-0018dbba956b",
   "metadata": {},
   "outputs": [],
   "source": [
    "Q10. Write a Python program that reads a CSV file containing sales data for different products and\n",
    "visualizes the data using a stacked bar chart to show the sales of each product category over time. The\n",
    "program should prompt the user to enter the file path and display the chart."
   ]
  },
  {
   "cell_type": "code",
   "execution_count": null,
   "id": "0e482b48-1e5b-479d-a874-7135d58eabb2",
   "metadata": {},
   "outputs": [],
   "source": [
    "import pandas as pd\n",
    "\n",
    "def read_csv(file_path):\n",
    "    return pd.read_csv(file_path)\n",
    "def main():\n",
    "    file_path = input(\"Enter the path to the CSV file: \")\n",
    "    df = read_csv(file_path)"
   ]
  },
  {
   "cell_type": "code",
   "execution_count": null,
   "id": "8f2b5be1-655a-4c90-bc95-14f07c4c0c67",
   "metadata": {},
   "outputs": [],
   "source": [
    "Q11. You are given a CSV file containing student data that includes the student ID and their test score. Write\n",
    "a Python program that reads the CSV file, calculates the mean, median, and mode of the test scores, and\n",
    "displays the results in a table."
   ]
  },
  {
   "cell_type": "code",
   "execution_count": null,
   "id": "0732487e-0176-46cf-9bc4-cd9ec8b9f81b",
   "metadata": {},
   "outputs": [],
   "source": [
    "import pandas as pd\n",
    "from statistics import mode, StatisticsError\n",
    "from tabulate import tabulate\n",
    "\n",
    "def read_csv(file_path):\n",
    "    try:\n",
    "        df = pd.read_csv(file_path)\n",
    "        return df\n",
    "    except FileNotFoundError:\n",
    "        print(\"File not found. Please check the file path and try again.\")\n",
    "        return None\n",
    "\n",
    "def calculate_statistics(df):\n",
    "    \n",
    "    mean_score = df['Test Score'].mean()\n",
    "    median_score = df['Test Score'].median()\n",
    "    try:\n",
    "        mode_score = mode(df['Test Score'])\n",
    "    except StatisticsError:\n",
    "        mode_score = df['Test Score'].mode().tolist()\n",
    "    \n",
    "    return mean_score, median_score, mode_score\n",
    "\n",
    "def display_statistics(mean, median, mode):\n",
    "    table = [\n",
    "        [\"Mean\", mean],\n",
    "        [\"Median\", median],\n",
    "        [\"Mode\", ', '.join(map(str, mode)) if isinstance(mode, list) else mode]\n",
    "    ]\n",
    "    print(tabulate(table, headers=[\"Statistic\", \"Value\"], tablefmt=\"grid\"))\n",
    "\n",
    "def main():\n",
    "    file_path = input(\"Enter the file path\")\n",
    "    df = read_csv(file_path)\n",
    "    \n",
    "    if df is not None:\n",
    "        mean_score, median_score, mode_score = calculate_statistics(df)\n",
    "        display_statistics(mean_score, median_score, mode_score)\n",
    "\n"
   ]
  }
 ],
 "metadata": {
  "kernelspec": {
   "display_name": "Python 3 (ipykernel)",
   "language": "python",
   "name": "python3"
  },
  "language_info": {
   "codemirror_mode": {
    "name": "ipython",
    "version": 3
   },
   "file_extension": ".py",
   "mimetype": "text/x-python",
   "name": "python",
   "nbconvert_exporter": "python",
   "pygments_lexer": "ipython3",
   "version": "3.10.8"
  }
 },
 "nbformat": 4,
 "nbformat_minor": 5
}
